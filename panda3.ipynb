{
 "cells": [
  {
   "cell_type": "code",
   "execution_count": 16,
   "id": "b333e6b8-6557-4c28-b0f3-b63d551cb234",
   "metadata": {},
   "outputs": [],
   "source": [
    "import pandas as pd\n",
    "course_name = [\"Data Science\", \"Machine Learning\", \"Big Data\",\"Data Engineer\"]\n",
    "duration = [2,3,6,4]\n",
    "df = pd.DataFrame(data = {\"course_name\" : course_name, 'duration' : duration})"
   ]
  },
  {
   "cell_type": "code",
   "execution_count": 17,
   "id": "6b3cc6df-d7bb-45a5-bf49-5a46d5cde4c8",
   "metadata": {},
   "outputs": [
    {
     "data": {
      "text/html": [
       "<div>\n",
       "<style scoped>\n",
       "    .dataframe tbody tr th:only-of-type {\n",
       "        vertical-align: middle;\n",
       "    }\n",
       "\n",
       "    .dataframe tbody tr th {\n",
       "        vertical-align: top;\n",
       "    }\n",
       "\n",
       "    .dataframe thead th {\n",
       "        text-align: right;\n",
       "    }\n",
       "</style>\n",
       "<table border=\"1\" class=\"dataframe\">\n",
       "  <thead>\n",
       "    <tr style=\"text-align: right;\">\n",
       "      <th></th>\n",
       "      <th>course_name</th>\n",
       "      <th>duration</th>\n",
       "    </tr>\n",
       "  </thead>\n",
       "  <tbody>\n",
       "    <tr>\n",
       "      <th>0</th>\n",
       "      <td>Data Science</td>\n",
       "      <td>2</td>\n",
       "    </tr>\n",
       "    <tr>\n",
       "      <th>1</th>\n",
       "      <td>Machine Learning</td>\n",
       "      <td>3</td>\n",
       "    </tr>\n",
       "    <tr>\n",
       "      <th>2</th>\n",
       "      <td>Big Data</td>\n",
       "      <td>6</td>\n",
       "    </tr>\n",
       "    <tr>\n",
       "      <th>3</th>\n",
       "      <td>Data Engineer</td>\n",
       "      <td>4</td>\n",
       "    </tr>\n",
       "  </tbody>\n",
       "</table>\n",
       "</div>"
      ],
      "text/plain": [
       "        course_name  duration\n",
       "0      Data Science         2\n",
       "1  Machine Learning         3\n",
       "2          Big Data         6\n",
       "3     Data Engineer         4"
      ]
     },
     "execution_count": 17,
     "metadata": {},
     "output_type": "execute_result"
    }
   ],
   "source": [
    "df"
   ]
  },
  {
   "cell_type": "markdown",
   "id": "ce67752a-99a5-4559-9992-3b738f62868a",
   "metadata": {},
   "source": [
    "Q1"
   ]
  },
  {
   "cell_type": "code",
   "execution_count": 18,
   "id": "01cd778b-92df-42f2-a3cd-bb7f3a667776",
   "metadata": {},
   "outputs": [
    {
     "data": {
      "text/html": [
       "<div>\n",
       "<style scoped>\n",
       "    .dataframe tbody tr th:only-of-type {\n",
       "        vertical-align: middle;\n",
       "    }\n",
       "\n",
       "    .dataframe tbody tr th {\n",
       "        vertical-align: top;\n",
       "    }\n",
       "\n",
       "    .dataframe thead th {\n",
       "        text-align: right;\n",
       "    }\n",
       "</style>\n",
       "<table border=\"1\" class=\"dataframe\">\n",
       "  <thead>\n",
       "    <tr style=\"text-align: right;\">\n",
       "      <th></th>\n",
       "      <th>course_name</th>\n",
       "      <th>duration</th>\n",
       "    </tr>\n",
       "  </thead>\n",
       "  <tbody>\n",
       "    <tr>\n",
       "      <th>1</th>\n",
       "      <td>Machine Learning</td>\n",
       "      <td>3</td>\n",
       "    </tr>\n",
       "  </tbody>\n",
       "</table>\n",
       "</div>"
      ],
      "text/plain": [
       "        course_name  duration\n",
       "1  Machine Learning         3"
      ]
     },
     "execution_count": 18,
     "metadata": {},
     "output_type": "execute_result"
    }
   ],
   "source": [
    "df.head()[1:2]"
   ]
  },
  {
   "cell_type": "code",
   "execution_count": 19,
   "id": "0b91206f-da9a-4528-886d-fbd74bc56822",
   "metadata": {},
   "outputs": [
    {
     "name": "stdout",
     "output_type": "stream",
     "text": [
      "course_name    Machine Learning\n",
      "duration                      3\n",
      "Name: 1, dtype: object\n"
     ]
    }
   ],
   "source": [
    "print(df.iloc[1])\n"
   ]
  },
  {
   "cell_type": "markdown",
   "id": "30f37393-2da2-4b14-a1c1-e0756d746de6",
   "metadata": {},
   "source": [
    "Q2. What is the difference between the functions loc and iloc in pandas.DataFrame?"
   ]
  },
  {
   "cell_type": "markdown",
   "id": "4a9b8791-809a-4aa3-889e-2db1985fa2f8",
   "metadata": {},
   "source": [
    "Both loc and iloc are used to select rows and columns from a pandas DataFrame, but they differ in how they use the row and column indices.\n",
    "\n",
    "loc is used for label-based indexing, where you can select rows and columns using the labels (names) of the rows and columns. You can use either single label or a list of labels to select rows, and a single label or a list of labels to select columns.\n",
    "\n",
    "iloc is used for integer-based indexing, where you can select rows and columns using the integer indices of the rows and columns. You can use either single integer or a list of integers to select rows, and a single integer or a list of integers to select columns.\n",
    "\n"
   ]
  },
  {
   "cell_type": "markdown",
   "id": "2b414cd7-fc34-4fc4-a004-be05e64aa760",
   "metadata": {},
   "source": [
    "Q3."
   ]
  },
  {
   "cell_type": "markdown",
   "id": "336439f6-fd41-485a-a941-66293c4f4088",
   "metadata": {},
   "source": [
    "Q3. Reindex the given dataframe using a variable, reindex = [3,0,1,2] and store it in the variable, new_df\n",
    "then find the output for both new_df.loc[2] and new_df.iloc[2]"
   ]
  },
  {
   "cell_type": "code",
   "execution_count": 20,
   "id": "d9028d97-ed93-4fdd-bc07-032500c34a8e",
   "metadata": {},
   "outputs": [],
   "source": [
    "new_df = df.reindex([3,0,1,2])"
   ]
  },
  {
   "cell_type": "code",
   "execution_count": 21,
   "id": "34234da9-d320-45bf-b398-0043203a82c2",
   "metadata": {},
   "outputs": [
    {
     "data": {
      "text/html": [
       "<div>\n",
       "<style scoped>\n",
       "    .dataframe tbody tr th:only-of-type {\n",
       "        vertical-align: middle;\n",
       "    }\n",
       "\n",
       "    .dataframe tbody tr th {\n",
       "        vertical-align: top;\n",
       "    }\n",
       "\n",
       "    .dataframe thead th {\n",
       "        text-align: right;\n",
       "    }\n",
       "</style>\n",
       "<table border=\"1\" class=\"dataframe\">\n",
       "  <thead>\n",
       "    <tr style=\"text-align: right;\">\n",
       "      <th></th>\n",
       "      <th>course_name</th>\n",
       "      <th>duration</th>\n",
       "    </tr>\n",
       "  </thead>\n",
       "  <tbody>\n",
       "    <tr>\n",
       "      <th>3</th>\n",
       "      <td>Data Engineer</td>\n",
       "      <td>4</td>\n",
       "    </tr>\n",
       "    <tr>\n",
       "      <th>0</th>\n",
       "      <td>Data Science</td>\n",
       "      <td>2</td>\n",
       "    </tr>\n",
       "    <tr>\n",
       "      <th>1</th>\n",
       "      <td>Machine Learning</td>\n",
       "      <td>3</td>\n",
       "    </tr>\n",
       "    <tr>\n",
       "      <th>2</th>\n",
       "      <td>Big Data</td>\n",
       "      <td>6</td>\n",
       "    </tr>\n",
       "  </tbody>\n",
       "</table>\n",
       "</div>"
      ],
      "text/plain": [
       "        course_name  duration\n",
       "3     Data Engineer         4\n",
       "0      Data Science         2\n",
       "1  Machine Learning         3\n",
       "2          Big Data         6"
      ]
     },
     "execution_count": 21,
     "metadata": {},
     "output_type": "execute_result"
    }
   ],
   "source": [
    "new_df"
   ]
  },
  {
   "cell_type": "code",
   "execution_count": 22,
   "id": "2a464d33-fd19-4534-a667-9c3d51199d89",
   "metadata": {},
   "outputs": [
    {
     "data": {
      "text/plain": [
       "course_name    Big Data\n",
       "duration              6\n",
       "Name: 2, dtype: object"
      ]
     },
     "execution_count": 22,
     "metadata": {},
     "output_type": "execute_result"
    }
   ],
   "source": [
    "new_df.loc[2]"
   ]
  },
  {
   "cell_type": "code",
   "execution_count": 23,
   "id": "dda9dc23-225e-44c6-ae85-afa02718c469",
   "metadata": {},
   "outputs": [
    {
     "data": {
      "text/plain": [
       "course_name    Machine Learning\n",
       "duration                      3\n",
       "Name: 1, dtype: object"
      ]
     },
     "execution_count": 23,
     "metadata": {},
     "output_type": "execute_result"
    }
   ],
   "source": [
    "new_df.iloc[2]"
   ]
  },
  {
   "cell_type": "markdown",
   "id": "d6068b7f-4f7e-4689-a084-28149263b92e",
   "metadata": {},
   "source": [
    "The reason for this difference in output is that loc() uses the labels of the rows to locate the data, while iloc() uses the integer positions of the rows. Since the order of rows in new_df is different from the order of rows in df, the labels and integer positions of the rows are also different. Therefore, loc() and iloc() methods retrieve different rows of data from the dataframe."
   ]
  },
  {
   "cell_type": "code",
   "execution_count": 24,
   "id": "a3d77b31-3690-4edf-baa9-877a306fc007",
   "metadata": {},
   "outputs": [],
   "source": [
    "import pandas as pd\n",
    "import numpy as np\n",
    "columns = ['column_1', 'column_2', 'column_3', 'column_4', 'column_5', 'column_6']\n",
    "indices = [1,2,3,4,5,6]\n",
    "#Creating a dataframe:\n",
    "df1 = pd.DataFrame(np.random.rand(6,6), columns = columns, index = indices)"
   ]
  },
  {
   "cell_type": "code",
   "execution_count": 25,
   "id": "fee39411-ad29-4bd0-b1d7-c3c164eef7b6",
   "metadata": {},
   "outputs": [
    {
     "data": {
      "text/html": [
       "<div>\n",
       "<style scoped>\n",
       "    .dataframe tbody tr th:only-of-type {\n",
       "        vertical-align: middle;\n",
       "    }\n",
       "\n",
       "    .dataframe tbody tr th {\n",
       "        vertical-align: top;\n",
       "    }\n",
       "\n",
       "    .dataframe thead th {\n",
       "        text-align: right;\n",
       "    }\n",
       "</style>\n",
       "<table border=\"1\" class=\"dataframe\">\n",
       "  <thead>\n",
       "    <tr style=\"text-align: right;\">\n",
       "      <th></th>\n",
       "      <th>column_1</th>\n",
       "      <th>column_2</th>\n",
       "      <th>column_3</th>\n",
       "      <th>column_4</th>\n",
       "      <th>column_5</th>\n",
       "      <th>column_6</th>\n",
       "    </tr>\n",
       "  </thead>\n",
       "  <tbody>\n",
       "    <tr>\n",
       "      <th>1</th>\n",
       "      <td>0.171071</td>\n",
       "      <td>0.952985</td>\n",
       "      <td>0.842074</td>\n",
       "      <td>0.861312</td>\n",
       "      <td>0.338278</td>\n",
       "      <td>0.368123</td>\n",
       "    </tr>\n",
       "    <tr>\n",
       "      <th>2</th>\n",
       "      <td>0.549891</td>\n",
       "      <td>0.390442</td>\n",
       "      <td>0.757853</td>\n",
       "      <td>0.526153</td>\n",
       "      <td>0.529313</td>\n",
       "      <td>0.738606</td>\n",
       "    </tr>\n",
       "    <tr>\n",
       "      <th>3</th>\n",
       "      <td>0.285441</td>\n",
       "      <td>0.320618</td>\n",
       "      <td>0.234125</td>\n",
       "      <td>0.362792</td>\n",
       "      <td>0.840184</td>\n",
       "      <td>0.449587</td>\n",
       "    </tr>\n",
       "    <tr>\n",
       "      <th>4</th>\n",
       "      <td>0.125801</td>\n",
       "      <td>0.595851</td>\n",
       "      <td>0.096844</td>\n",
       "      <td>0.312963</td>\n",
       "      <td>0.702478</td>\n",
       "      <td>0.888423</td>\n",
       "    </tr>\n",
       "    <tr>\n",
       "      <th>5</th>\n",
       "      <td>0.632465</td>\n",
       "      <td>0.958133</td>\n",
       "      <td>0.851730</td>\n",
       "      <td>0.717282</td>\n",
       "      <td>0.302373</td>\n",
       "      <td>0.418350</td>\n",
       "    </tr>\n",
       "    <tr>\n",
       "      <th>6</th>\n",
       "      <td>0.425410</td>\n",
       "      <td>0.355260</td>\n",
       "      <td>0.514118</td>\n",
       "      <td>0.037004</td>\n",
       "      <td>0.877874</td>\n",
       "      <td>0.931101</td>\n",
       "    </tr>\n",
       "  </tbody>\n",
       "</table>\n",
       "</div>"
      ],
      "text/plain": [
       "   column_1  column_2  column_3  column_4  column_5  column_6\n",
       "1  0.171071  0.952985  0.842074  0.861312  0.338278  0.368123\n",
       "2  0.549891  0.390442  0.757853  0.526153  0.529313  0.738606\n",
       "3  0.285441  0.320618  0.234125  0.362792  0.840184  0.449587\n",
       "4  0.125801  0.595851  0.096844  0.312963  0.702478  0.888423\n",
       "5  0.632465  0.958133  0.851730  0.717282  0.302373  0.418350\n",
       "6  0.425410  0.355260  0.514118  0.037004  0.877874  0.931101"
      ]
     },
     "execution_count": 25,
     "metadata": {},
     "output_type": "execute_result"
    }
   ],
   "source": [
    "df1"
   ]
  },
  {
   "cell_type": "markdown",
   "id": "2aa876ce-4be1-4839-aafd-edbbcedccf9a",
   "metadata": {},
   "source": [
    "Q4"
   ]
  },
  {
   "cell_type": "code",
   "execution_count": 26,
   "id": "6a6b7b00-99c4-484d-bb0f-8120ba2e9ab2",
   "metadata": {},
   "outputs": [
    {
     "data": {
      "text/plain": [
       "column_1    0.352934\n",
       "column_2    0.643606\n",
       "column_3    0.556525\n",
       "column_4    0.556100\n",
       "column_5    0.542525\n",
       "column_6    0.572618\n",
       "dtype: float64"
      ]
     },
     "execution_count": 26,
     "metadata": {},
     "output_type": "execute_result"
    }
   ],
   "source": [
    "df1.head().mean()"
   ]
  },
  {
   "cell_type": "code",
   "execution_count": 27,
   "id": "4c18997c-5d6b-4338-beeb-08ea62d6b30c",
   "metadata": {},
   "outputs": [
    {
     "data": {
      "text/plain": [
       "0.30221527137832815"
      ]
     },
     "execution_count": 27,
     "metadata": {},
     "output_type": "execute_result"
    }
   ],
   "source": [
    "df1.head()['column_2'].std()"
   ]
  },
  {
   "cell_type": "markdown",
   "id": "d6ff3ef8-ed61-49ff-9ea3-3df369e7d72e",
   "metadata": {},
   "source": [
    "Q5. Replace the data present in the second row of column, ‘column_2’ by a string variable then find the\n",
    "mean of column, column_2.\n",
    "If you are getting errors in executing it then explain why.\n",
    "[Hint: To replace the data use df1.loc[] and equate this to string data of your choice.]"
   ]
  },
  {
   "cell_type": "code",
   "execution_count": 28,
   "id": "3b06c6d5-d16c-4350-953b-d13d1f98eeea",
   "metadata": {},
   "outputs": [
    {
     "data": {
      "text/html": [
       "<div>\n",
       "<style scoped>\n",
       "    .dataframe tbody tr th:only-of-type {\n",
       "        vertical-align: middle;\n",
       "    }\n",
       "\n",
       "    .dataframe tbody tr th {\n",
       "        vertical-align: top;\n",
       "    }\n",
       "\n",
       "    .dataframe thead th {\n",
       "        text-align: right;\n",
       "    }\n",
       "</style>\n",
       "<table border=\"1\" class=\"dataframe\">\n",
       "  <thead>\n",
       "    <tr style=\"text-align: right;\">\n",
       "      <th></th>\n",
       "      <th>column_1</th>\n",
       "      <th>column_2</th>\n",
       "      <th>column_3</th>\n",
       "      <th>column_4</th>\n",
       "      <th>column_5</th>\n",
       "      <th>column_6</th>\n",
       "    </tr>\n",
       "  </thead>\n",
       "  <tbody>\n",
       "    <tr>\n",
       "      <th>1</th>\n",
       "      <td>0.171071</td>\n",
       "      <td>0.952985</td>\n",
       "      <td>0.842074</td>\n",
       "      <td>0.861312</td>\n",
       "      <td>0.338278</td>\n",
       "      <td>0.368123</td>\n",
       "    </tr>\n",
       "    <tr>\n",
       "      <th>2</th>\n",
       "      <td>0.549891</td>\n",
       "      <td>0.390442</td>\n",
       "      <td>0.757853</td>\n",
       "      <td>0.526153</td>\n",
       "      <td>0.529313</td>\n",
       "      <td>0.738606</td>\n",
       "    </tr>\n",
       "    <tr>\n",
       "      <th>3</th>\n",
       "      <td>0.285441</td>\n",
       "      <td>0.320618</td>\n",
       "      <td>0.234125</td>\n",
       "      <td>0.362792</td>\n",
       "      <td>0.840184</td>\n",
       "      <td>0.449587</td>\n",
       "    </tr>\n",
       "    <tr>\n",
       "      <th>4</th>\n",
       "      <td>0.125801</td>\n",
       "      <td>0.595851</td>\n",
       "      <td>0.096844</td>\n",
       "      <td>0.312963</td>\n",
       "      <td>0.702478</td>\n",
       "      <td>0.888423</td>\n",
       "    </tr>\n",
       "    <tr>\n",
       "      <th>5</th>\n",
       "      <td>0.632465</td>\n",
       "      <td>0.958133</td>\n",
       "      <td>0.851730</td>\n",
       "      <td>0.717282</td>\n",
       "      <td>0.302373</td>\n",
       "      <td>0.418350</td>\n",
       "    </tr>\n",
       "    <tr>\n",
       "      <th>6</th>\n",
       "      <td>0.425410</td>\n",
       "      <td>0.355260</td>\n",
       "      <td>0.514118</td>\n",
       "      <td>0.037004</td>\n",
       "      <td>0.877874</td>\n",
       "      <td>0.931101</td>\n",
       "    </tr>\n",
       "  </tbody>\n",
       "</table>\n",
       "</div>"
      ],
      "text/plain": [
       "   column_1  column_2  column_3  column_4  column_5  column_6\n",
       "1  0.171071  0.952985  0.842074  0.861312  0.338278  0.368123\n",
       "2  0.549891  0.390442  0.757853  0.526153  0.529313  0.738606\n",
       "3  0.285441  0.320618  0.234125  0.362792  0.840184  0.449587\n",
       "4  0.125801  0.595851  0.096844  0.312963  0.702478  0.888423\n",
       "5  0.632465  0.958133  0.851730  0.717282  0.302373  0.418350\n",
       "6  0.425410  0.355260  0.514118  0.037004  0.877874  0.931101"
      ]
     },
     "execution_count": 28,
     "metadata": {},
     "output_type": "execute_result"
    }
   ],
   "source": [
    "df1"
   ]
  },
  {
   "cell_type": "code",
   "execution_count": 29,
   "id": "43692666-0ee1-405d-84ff-605f829e94f7",
   "metadata": {},
   "outputs": [],
   "source": [
    "df1.loc[2, 'column_2'] = 'saqib'"
   ]
  },
  {
   "cell_type": "markdown",
   "id": "d13bb46c-5533-4277-8ed1-60ad55abe556",
   "metadata": {},
   "source": [
    "df1['column_2'].mean\n",
    "\n",
    "there are errors while executing this code, it may be because the string data cannot be used in calculations like mean(). In that case, we need to convert the data in the column to a numeric format using the astype()"
   ]
  },
  {
   "cell_type": "markdown",
   "id": "3e600446-44f1-4ef4-84f6-da17b1f76c83",
   "metadata": {},
   "source": [
    "Q6. What do you understand about the windows function in pandas and list the types of windows\n",
    "functions?\n"
   ]
  },
  {
   "cell_type": "markdown",
   "id": "fa05dafb-ad11-4379-90c2-21eae5108d14",
   "metadata": {},
   "source": [
    "In pandas, a window function is a way to perform calculations over a sliding window of data, where the size and shape of the window can be customized. Window functions are typically used in time-series data analysis and are also useful for various statistical and data analysis tasks.\n",
    "\n",
    "The types of window functions available in pandas are:\n",
    "\n",
    "Rolling: This function is used to perform rolling window calculations. The size of the window can be specified, and different types of calculations can be performed on the data in the window, such as sum, mean, median, etc.\n",
    "\n",
    "Expanding: This function is used to perform expanding window calculations. In this type of window function, the window size starts from a minimum value and expands to include more data points over time. This function is useful for calculating cumulative quantities such as cumulative sum, cumulative product, etc.\n",
    "\n",
    "EWM (Exponentially Weighted Moving): This function is used to perform exponentially weighted moving window calculations. This type of window function applies more weight to the recent data points in the window, making it more responsive to changes in the data.\n",
    "All these window functions are available in the pandas library and can be applied to various types of data analysis tasks."
   ]
  },
  {
   "cell_type": "markdown",
   "id": "e23fa3be-52af-4fec-9965-a44c545ec6f5",
   "metadata": {},
   "source": [
    "Q7"
   ]
  },
  {
   "cell_type": "code",
   "execution_count": 31,
   "id": "2a0febe8-72b3-441b-b845-a74fe9c62d87",
   "metadata": {},
   "outputs": [],
   "source": [
    "import datetime\n",
    "now = datetime.datetime.now()"
   ]
  },
  {
   "cell_type": "code",
   "execution_count": 32,
   "id": "4fee15bf-ab90-4229-b5d3-c9a57cb460ea",
   "metadata": {},
   "outputs": [
    {
     "data": {
      "text/plain": [
       "'February 2023'"
      ]
     },
     "execution_count": 32,
     "metadata": {},
     "output_type": "execute_result"
    }
   ],
   "source": [
    "now.strftime(\"%B %Y\")\n"
   ]
  },
  {
   "cell_type": "markdown",
   "id": "3a37814b-d0a9-44cf-a13a-c9e349791eee",
   "metadata": {},
   "source": [
    "Q8. Write a Python program that takes in two dates as input (in the format YYYY-MM-DD) and\n",
    "calculates the difference between them in days, hours, and minutes using Pandas time delta. The\n",
    "program should prompt the user to enter the dates and display the result."
   ]
  },
  {
   "cell_type": "code",
   "execution_count": null,
   "id": "cc56f3e6-401c-497e-b313-6a1d0c6da895",
   "metadata": {},
   "outputs": [],
   "source": [
    "date1_str = input(\"Enter the first date in YYYY-MM-DD format: \")\n",
    "\n",
    "date2_str = input(\"Enter the second date in YYYY-MM-DD format: \")\n",
    "\n",
    "date1 = pd.to_datetime(date1_str)\n",
    "date2 = pd.to_datetime(date2_str)\n",
    "\n",
    "\n",
    "time_diff = date2 - date1\n",
    "\n",
    "days = time_diff.days\n",
    "hours = time_diff.seconds // 3600\n",
    "minutes = (time_diff.seconds // 60) % 60\n",
    "\n",
    "print(f\"The time difference between {date1_str} and {date2_str} is:\")\n",
    "print(f\"{days} days, {hours} hours, and {minutes} minutes.\")\n"
   ]
  },
  {
   "cell_type": "markdown",
   "id": "5282538b-e204-437d-b384-ee4f771002b5",
   "metadata": {},
   "source": [
    "Q9"
   ]
  },
  {
   "cell_type": "code",
   "execution_count": null,
   "id": "f6fc1bbd-ac49-4fa8-b022-b4b9958235e4",
   "metadata": {},
   "outputs": [],
   "source": [
    "\n",
    "file_path = input(\"Enter file path: \")\n",
    "\n",
    "col_name = input(\"Enter column name: \")\n",
    "\n",
    "cat_order = input(\"Enter category order (comma-separated): \").split(\",\")\n",
    "\n",
    "df = pd.read_csv(file_path)\n",
    "\n",
    "df[col_name] = pd.Categorical(df[col_name], categories=cat_order, ordered=True)\n",
    "\n",
    "df = df.sort_values(col_name)\n",
    "\n",
    "print(df)\n"
   ]
  },
  {
   "cell_type": "markdown",
   "id": "66c35fa7-2d83-4d87-8524-5162c58b0b48",
   "metadata": {},
   "source": [
    "Q10"
   ]
  },
  {
   "cell_type": "code",
   "execution_count": null,
   "id": "861fa9a7-cfdc-4a00-8552-098ca80671e8",
   "metadata": {},
   "outputs": [],
   "source": [
    "\n",
    "import matplotlib.pyplot as plt\n",
    "\n",
    "file_path = input(\"Enter file path: \")\n",
    "\n",
    "df = pd.read_csv(file_path)\n",
    "\n",
    "grouped_df = df.groupby(['category', 'year']).sum()\n",
    "\n",
    "pivot_df = grouped_df.pivot_table(values='sales', index='year', columns='category')\n",
    "\n",
    "ax = pivot_df.plot(kind='bar', stacked=True)\n",
    "\n",
    "ax.set_title('Sales by Product Category')\n",
    "ax.set_xlabel('Year')\n",
    "ax.set_ylabel('Sales')\n",
    "\n",
    "plt.show()\n"
   ]
  },
  {
   "cell_type": "markdown",
   "id": "780aaddb-6ab0-4b9b-bf02-c5caecf400c0",
   "metadata": {},
   "source": [
    "Q11"
   ]
  },
  {
   "cell_type": "code",
   "execution_count": null,
   "id": "db5709bb-d6f7-4d89-ac36-9090c2898dc3",
   "metadata": {},
   "outputs": [],
   "source": [
    "import pandas as pd\n",
    "\n",
    "file_path = input(\"Enter the file path of the CSV file containing the student data: \")\n",
    "\n",
    "df = pd.read_csv(file_path)\n",
    "\n",
    "mean = df['Test Score'].mean()\n",
    "median = df['Test Score'].median()\n",
    "mode = df['Test Score'].mode()\n",
    "\n",
    "results = pd.DataFrame({\n",
    "    'Statistic': ['Mean', 'Median', 'Mode'],\n",
    "    'Value': [mean, median, mode]\n",
    "})\n",
    "\n",
    "# Display table\n",
    "print(results.to_string(index=False))\n"
   ]
  }
 ],
 "metadata": {
  "kernelspec": {
   "display_name": "Python 3 (ipykernel)",
   "language": "python",
   "name": "python3"
  },
  "language_info": {
   "codemirror_mode": {
    "name": "ipython",
    "version": 3
   },
   "file_extension": ".py",
   "mimetype": "text/x-python",
   "name": "python",
   "nbconvert_exporter": "python",
   "pygments_lexer": "ipython3",
   "version": "3.10.8"
  }
 },
 "nbformat": 4,
 "nbformat_minor": 5
}
